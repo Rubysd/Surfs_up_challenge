{
 "cells": [
  {
   "cell_type": "code",
   "execution_count": 1,
   "metadata": {},
   "outputs": [],
   "source": [
    "# Dependencies\n",
    "import numpy as np\n",
    "import pandas as pd\n",
    "\n",
    "# Python SQL toolkit and Object Relational Mapper\n",
    "import sqlalchemy\n",
    "from sqlalchemy.ext.automap import automap_base\n",
    "from sqlalchemy.orm import Session\n",
    "from sqlalchemy import create_engine, func\n",
    "\n",
    "import datetime as dt"
   ]
  },
  {
   "cell_type": "code",
   "execution_count": 2,
   "metadata": {},
   "outputs": [],
   "source": [
    "engine = create_engine(\"sqlite:///hawaii.sqlite\")\n",
    "\n",
    "# reflect an existing database into a new model\n",
    "Base = automap_base()\n",
    "# reflect the tables\n",
    "Base.prepare(engine, reflect=True)\n",
    "\n",
    "# Save references to each table\n",
    "Measurement = Base.classes.measurement\n",
    "Station = Base.classes.station"
   ]
  },
  {
   "cell_type": "code",
   "execution_count": 3,
   "metadata": {},
   "outputs": [],
   "source": [
    "# Create our session (link) from Python to the DB\n",
    "session = Session(engine)"
   ]
  },
  {
   "cell_type": "markdown",
   "metadata": {},
   "source": [
    "## D1: Determine the Summary Statistics for June"
   ]
  },
  {
   "cell_type": "code",
   "execution_count": 4,
   "metadata": {},
   "outputs": [],
   "source": [
    "# 1. Import the sqlalchemy extract function.\n",
    "from sqlalchemy import extract\n",
    "\n",
    "# 2. Write a query that filters the Measurement table to retrieve the temperatures for the month of June. \n",
    "    # Variable to store results\n",
    "results_june = []\n",
    "    # session that we created earlier so that we can query our database\n",
    "results_june = session.query(Measurement.date, Measurement.tobs)\n",
    "#print(results.all())"
   ]
  },
  {
   "cell_type": "code",
   "execution_count": 5,
   "metadata": {},
   "outputs": [],
   "source": [
    "#  3. Convert the June temperatures to a list.\n",
    "    # add a function that extracts all of the results from our query and \n",
    "    # put them in a list. To do this, add .all() to the end of our \n",
    "    # existing query.\n",
    "# results = session.query(Measurement.date, Measurement.prcp).filter(Measurement.date >= prev_year).all()\n",
    "results_june = session.query(Measurement.date, Measurement.tobs).filter(extract('year', Measurement.date) == 2017 ).filter(extract('month', Measurement.date) == 6 ).all()\n",
    "#print(results_june)\n"
   ]
  },
  {
   "cell_type": "code",
   "execution_count": 6,
   "metadata": {},
   "outputs": [
    {
     "name": "stdout",
     "output_type": "stream",
     "text": [
      "                  date  temperature\n",
      "date                               \n",
      "2017-06-01  2017-06-01         79.0\n",
      "2017-06-01  2017-06-01         79.0\n",
      "2017-06-01  2017-06-01         81.0\n",
      "2017-06-01  2017-06-01         74.0\n",
      "2017-06-01  2017-06-01         76.0\n",
      "2017-06-01  2017-06-01         80.0\n",
      "2017-06-02  2017-06-02         76.0\n",
      "2017-06-02  2017-06-02         78.0\n",
      "2017-06-02  2017-06-02         79.0\n",
      "2017-06-02  2017-06-02         76.0\n",
      "2017-06-02  2017-06-02         81.0\n",
      "2017-06-02  2017-06-02         79.0\n",
      "2017-06-03  2017-06-03         79.0\n",
      "2017-06-03  2017-06-03         76.0\n",
      "2017-06-03  2017-06-03         74.0\n",
      "2017-06-03  2017-06-03         80.0\n",
      "2017-06-03  2017-06-03         76.0\n",
      "2017-06-03  2017-06-03         79.0\n",
      "2017-06-04  2017-06-04         79.0\n",
      "2017-06-04  2017-06-04         81.0\n",
      "2017-06-04  2017-06-04         77.0\n",
      "2017-06-04  2017-06-04         78.0\n",
      "2017-06-04  2017-06-04         79.0\n",
      "2017-06-04  2017-06-04         77.0\n",
      "2017-06-05  2017-06-05         78.0\n",
      "2017-06-05  2017-06-05         76.0\n",
      "2017-06-05  2017-06-05         74.0\n",
      "2017-06-05  2017-06-05         75.0\n",
      "2017-06-05  2017-06-05         78.0\n",
      "2017-06-05  2017-06-05         81.0\n",
      "2017-06-05  2017-06-05         80.0\n",
      "2017-06-06  2017-06-06         79.0\n",
      "2017-06-06  2017-06-06         75.0\n",
      "2017-06-06  2017-06-06         78.0\n",
      "2017-06-06  2017-06-06         80.0\n",
      "2017-06-06  2017-06-06         74.0\n",
      "2017-06-06  2017-06-06         80.0\n",
      "2017-06-06  2017-06-06         75.0\n",
      "2017-06-07  2017-06-07         79.0\n",
      "2017-06-07  2017-06-07         78.0\n",
      "2017-06-07  2017-06-07         75.0\n",
      "2017-06-07  2017-06-07         80.0\n",
      "2017-06-07  2017-06-07         75.0\n",
      "2017-06-07  2017-06-07         81.0\n",
      "2017-06-07  2017-06-07         79.0\n",
      "2017-06-08  2017-06-08         77.0\n",
      "2017-06-08  2017-06-08         80.0\n",
      "2017-06-08  2017-06-08         75.0\n",
      "2017-06-08  2017-06-08         78.0\n",
      "2017-06-08  2017-06-08         79.0\n",
      "2017-06-08  2017-06-08         76.0\n",
      "2017-06-08  2017-06-08         75.0\n",
      "2017-06-09  2017-06-09         80.0\n",
      "2017-06-09  2017-06-09         72.0\n",
      "2017-06-09  2017-06-09         81.0\n",
      "2017-06-09  2017-06-09         80.0\n",
      "2017-06-09  2017-06-09         78.0\n",
      "2017-06-09  2017-06-09         78.0\n",
      "2017-06-10  2017-06-10         77.0\n",
      "2017-06-10  2017-06-10         72.0\n",
      "2017-06-10  2017-06-10         74.0\n",
      "2017-06-10  2017-06-10         78.0\n",
      "2017-06-10  2017-06-10         75.0\n",
      "2017-06-10  2017-06-10         75.0\n",
      "2017-06-11  2017-06-11         79.0\n",
      "2017-06-11  2017-06-11         73.0\n",
      "2017-06-11  2017-06-11         74.0\n",
      "2017-06-11  2017-06-11         76.0\n",
      "2017-06-11  2017-06-11         79.0\n",
      "2017-06-11  2017-06-11         81.0\n",
      "2017-06-12  2017-06-12         83.0\n",
      "2017-06-12  2017-06-12         76.0\n",
      "2017-06-12  2017-06-12         74.0\n",
      "2017-06-12  2017-06-12         79.0\n",
      "2017-06-12  2017-06-12         74.0\n",
      "2017-06-12  2017-06-12         80.0\n",
      "2017-06-13  2017-06-13         75.0\n",
      "2017-06-13  2017-06-13         81.0\n",
      "2017-06-13  2017-06-13         73.0\n",
      "2017-06-13  2017-06-13         76.0\n",
      "2017-06-13  2017-06-13         76.0\n",
      "2017-06-13  2017-06-13         77.0\n",
      "2017-06-13  2017-06-13         80.0\n",
      "2017-06-14  2017-06-14         79.0\n",
      "2017-06-14  2017-06-14         80.0\n",
      "2017-06-14  2017-06-14         80.0\n",
      "2017-06-14  2017-06-14         76.0\n",
      "2017-06-14  2017-06-14         74.0\n",
      "2017-06-14  2017-06-14         78.0\n",
      "2017-06-14  2017-06-14         74.0\n",
      "2017-06-15  2017-06-15         78.0\n",
      "2017-06-15  2017-06-15         78.0\n",
      "2017-06-15  2017-06-15         77.0\n",
      "2017-06-15  2017-06-15         75.0\n",
      "2017-06-15  2017-06-15         77.0\n",
      "2017-06-15  2017-06-15         77.0\n",
      "2017-06-15  2017-06-15         78.0\n",
      "2017-06-16  2017-06-16         73.0\n",
      "2017-06-16  2017-06-16         80.0\n",
      "2017-06-16  2017-06-16         78.0\n",
      "2017-06-16  2017-06-16         79.0\n",
      "2017-06-16  2017-06-16         80.0\n",
      "2017-06-16  2017-06-16         76.0\n",
      "2017-06-16  2017-06-16         74.0\n",
      "2017-06-17  2017-06-17         77.0\n",
      "2017-06-17  2017-06-17         79.0\n",
      "2017-06-17  2017-06-17         72.0\n",
      "2017-06-17  2017-06-17         77.0\n",
      "2017-06-17  2017-06-17         80.0\n",
      "2017-06-17  2017-06-17         78.0\n",
      "2017-06-18  2017-06-18         77.0\n",
      "2017-06-18  2017-06-18         72.0\n",
      "2017-06-18  2017-06-18         78.0\n",
      "2017-06-18  2017-06-18         77.0\n",
      "2017-06-18  2017-06-18         77.0\n",
      "2017-06-18  2017-06-18         75.0\n",
      "2017-06-19  2017-06-19         78.0\n",
      "2017-06-19  2017-06-19         78.0\n",
      "2017-06-19  2017-06-19         76.0\n",
      "2017-06-19  2017-06-19         78.0\n",
      "2017-06-19  2017-06-19         80.0\n",
      "2017-06-19  2017-06-19         72.0\n",
      "2017-06-19  2017-06-19         77.0\n",
      "2017-06-20  2017-06-20         72.0\n",
      "2017-06-20  2017-06-20         74.0\n",
      "2017-06-20  2017-06-20         77.0\n",
      "2017-06-20  2017-06-20         79.0\n",
      "2017-06-20  2017-06-20         75.0\n",
      "2017-06-20  2017-06-20         78.0\n",
      "2017-06-21  2017-06-21         74.0\n",
      "2017-06-21  2017-06-21         76.0\n",
      "2017-06-21  2017-06-21         82.0\n",
      "2017-06-21  2017-06-21         79.0\n",
      "2017-06-21  2017-06-21         80.0\n",
      "2017-06-21  2017-06-21         75.0\n",
      "2017-06-22  2017-06-22         80.0\n",
      "2017-06-22  2017-06-22         81.0\n",
      "2017-06-22  2017-06-22         77.0\n",
      "2017-06-22  2017-06-22         76.0\n",
      "2017-06-22  2017-06-22         72.0\n",
      "2017-06-22  2017-06-22         80.0\n",
      "2017-06-23  2017-06-23         78.0\n",
      "2017-06-23  2017-06-23         76.0\n",
      "2017-06-23  2017-06-23         71.0\n",
      "2017-06-23  2017-06-23         72.0\n",
      "2017-06-23  2017-06-23         76.0\n",
      "2017-06-23  2017-06-23         76.0\n",
      "2017-06-23  2017-06-23         79.0\n",
      "2017-06-24  2017-06-24         74.0\n",
      "2017-06-24  2017-06-24         77.0\n",
      "2017-06-24  2017-06-24         82.0\n",
      "2017-06-24  2017-06-24         80.0\n",
      "2017-06-24  2017-06-24         73.0\n",
      "2017-06-25  2017-06-25         80.0\n",
      "2017-06-25  2017-06-25         73.0\n",
      "2017-06-25  2017-06-25         79.0\n",
      "2017-06-25  2017-06-25         71.0\n",
      "2017-06-25  2017-06-25         80.0\n",
      "2017-06-26  2017-06-26         79.0\n",
      "2017-06-26  2017-06-26         81.0\n",
      "2017-06-26  2017-06-26         77.0\n",
      "2017-06-26  2017-06-26         73.0\n",
      "2017-06-26  2017-06-26         80.0\n",
      "2017-06-26  2017-06-26         81.0\n",
      "2017-06-26  2017-06-26         82.0\n",
      "2017-06-27  2017-06-27         76.0\n",
      "2017-06-27  2017-06-27         77.0\n",
      "2017-06-27  2017-06-27         81.0\n",
      "2017-06-27  2017-06-27         74.0\n",
      "2017-06-27  2017-06-27         80.0\n",
      "2017-06-27  2017-06-27         80.0\n",
      "2017-06-28  2017-06-28         79.0\n",
      "2017-06-28  2017-06-28         77.0\n",
      "2017-06-28  2017-06-28         77.0\n",
      "2017-06-28  2017-06-28         74.0\n",
      "2017-06-28  2017-06-28         79.0\n",
      "2017-06-28  2017-06-28         80.0\n",
      "2017-06-29  2017-06-29         79.0\n",
      "2017-06-29  2017-06-29         76.0\n",
      "2017-06-29  2017-06-29         76.0\n",
      "2017-06-29  2017-06-29         79.0\n",
      "2017-06-29  2017-06-29         76.0\n",
      "2017-06-29  2017-06-29         76.0\n",
      "2017-06-29  2017-06-29         78.0\n",
      "2017-06-30  2017-06-30         76.0\n",
      "2017-06-30  2017-06-30         74.0\n",
      "2017-06-30  2017-06-30         81.0\n",
      "2017-06-30  2017-06-30         75.0\n",
      "2017-06-30  2017-06-30         74.0\n",
      "2017-06-30  2017-06-30         75.0\n",
      "2017-06-30  2017-06-30         75.0\n"
     ]
    }
   ],
   "source": [
    "# 4. Create a DataFrame from the list of temperatures for the month of June. \n",
    "    #  provide our results variable as one parameter \n",
    "    # and specify the column names as our second parameter.\n",
    "df = pd.DataFrame(results_june, columns=['date','temperature'])\n",
    "\n",
    "# Sort the dataframe by date\n",
    "df.set_index(df['date'], inplace=True)\n",
    "df = df.sort_index()\n",
    "pd.set_option('display.max_rows', None)\n",
    "print(df)"
   ]
  },
  {
   "cell_type": "code",
   "execution_count": 7,
   "metadata": {},
   "outputs": [
    {
     "data": {
      "text/plain": [
       "<AxesSubplot:xlabel='date'>"
      ]
     },
     "execution_count": 7,
     "metadata": {},
     "output_type": "execute_result"
    },
    {
     "data": {
      "image/png": "[encoded data removed]",
      "text/plain": [
       "<Figure size 432x288 with 1 Axes>"
      ]
     },
     "metadata": {
      "needs_background": "light"
     },
     "output_type": "display_data"
    }
   ],
   "source": [
    "# 5. Calculate and print out the summary statistics for the June temperature DataFrame.\n",
    "df.plot()"
   ]
  },
  {
   "cell_type": "code",
   "execution_count": 8,
   "metadata": {},
   "outputs": [
    {
     "data": {
      "text/html": [
       "<div>\n",
       "<style scoped>\n",
       "    .dataframe tbody tr th:only-of-type {\n",
       "        vertical-align: middle;\n",
       "    }\n",
       "\n",
       "    .dataframe tbody tr th {\n",
       "        vertical-align: top;\n",
       "    }\n",
       "\n",
       "    .dataframe thead th {\n",
       "        text-align: right;\n",
       "    }\n",
       "</style>\n",
       "<table border=\"1\" class=\"dataframe\">\n",
       "  <thead>\n",
       "    <tr style=\"text-align: right;\">\n",
       "      <th></th>\n",
       "      <th>temperature</th>\n",
       "    </tr>\n",
       "  </thead>\n",
       "  <tbody>\n",
       "    <tr>\n",
       "      <th>count</th>\n",
       "      <td>191.000000</td>\n",
       "    </tr>\n",
       "    <tr>\n",
       "      <th>mean</th>\n",
       "      <td>77.219895</td>\n",
       "    </tr>\n",
       "    <tr>\n",
       "      <th>std</th>\n",
       "      <td>2.622538</td>\n",
       "    </tr>\n",
       "    <tr>\n",
       "      <th>min</th>\n",
       "      <td>71.000000</td>\n",
       "    </tr>\n",
       "    <tr>\n",
       "      <th>25%</th>\n",
       "      <td>75.000000</td>\n",
       "    </tr>\n",
       "    <tr>\n",
       "      <th>50%</th>\n",
       "      <td>77.000000</td>\n",
       "    </tr>\n",
       "    <tr>\n",
       "      <th>75%</th>\n",
       "      <td>79.000000</td>\n",
       "    </tr>\n",
       "    <tr>\n",
       "      <th>max</th>\n",
       "      <td>83.000000</td>\n",
       "    </tr>\n",
       "  </tbody>\n",
       "</table>\n",
       "</div>"
      ],
      "text/plain": [
       "       temperature\n",
       "count   191.000000\n",
       "mean     77.219895\n",
       "std       2.622538\n",
       "min      71.000000\n",
       "25%      75.000000\n",
       "50%      77.000000\n",
       "75%      79.000000\n",
       "max      83.000000"
      ]
     },
     "execution_count": 8,
     "metadata": {},
     "output_type": "execute_result"
    }
   ],
   "source": [
    "# Use Pandas to calcualte the summary statistics for the precipitation data\n",
    "df.describe()"
   ]
  },
  {
   "cell_type": "markdown",
   "metadata": {},
   "source": [
    "## D2: Determine the Summary Statistics for December"
   ]
  },
  {
   "cell_type": "code",
   "execution_count": 9,
   "metadata": {},
   "outputs": [],
   "source": [
    "# 6. Write a query that filters the Measurement table to retrieve the temperatures for the month of December.\n",
    "# 2. Write a query that filters the Measurement table to retrieve the temperatures for the month of June. \n",
    "    # Variable to store results\n",
    "results_dec = []\n",
    "    # session that we created earlier so that we can query our database\n",
    "results_dec = session.query(Measurement.date, Measurement.tobs)\n",
    "#print(results.all())"
   ]
  },
  {
   "cell_type": "code",
   "execution_count": 10,
   "metadata": {},
   "outputs": [],
   "source": [
    "# 7. Convert the December temperatures to a list.\n",
    "\n",
    "   # add a function that extracts all of the results from our query and \n",
    "    # put them in a list. To do this, add .all() to the end of our \n",
    "    # existing query.\n",
    "results_dec = session.query(Measurement.date, Measurement.tobs).filter(extract('year', Measurement.date) == 2016 ).filter(extract('month', Measurement.date) == 12 ).all()\n",
    "#print(results)"
   ]
  },
  {
   "cell_type": "code",
   "execution_count": 11,
   "metadata": {},
   "outputs": [],
   "source": [
    "# 8. Create a DataFrame from the list of temperatures for the month of December. \n",
    "    #  provide our results variable as one parameter \n",
    "    # and specify the column names as our second parameter.\n",
    "df = pd.DataFrame(results_dec, columns=['date','temperature'])\n",
    "\n",
    "# Sort the dataframe by date\n",
    "df.set_index(df['date'], inplace=True)\n",
    "df = df.sort_index()\n",
    "#pd.set_option('display.max_rows', None)\n",
    "#df"
   ]
  },
  {
   "cell_type": "code",
   "execution_count": 12,
   "metadata": {},
   "outputs": [
    {
     "data": {
      "text/plain": [
       "<AxesSubplot:xlabel='date'>"
      ]
     },
     "execution_count": 12,
     "metadata": {},
     "output_type": "execute_result"
    },
    {
     "data": {
      "image/png": "[encoded data removed]",
      "text/plain": [
       "<Figure size 432x288 with 1 Axes>"
      ]
     },
     "metadata": {
      "needs_background": "light"
     },
     "output_type": "display_data"
    }
   ],
   "source": [
    "# 9. Calculate and print out the summary statistics for the Decemeber temperature DataFrame.\n",
    "df.plot()"
   ]
  },
  {
   "cell_type": "code",
   "execution_count": 13,
   "metadata": {},
   "outputs": [
    {
     "data": {
      "text/html": [
       "<div>\n",
       "<style scoped>\n",
       "    .dataframe tbody tr th:only-of-type {\n",
       "        vertical-align: middle;\n",
       "    }\n",
       "\n",
       "    .dataframe tbody tr th {\n",
       "        vertical-align: top;\n",
       "    }\n",
       "\n",
       "    .dataframe thead th {\n",
       "        text-align: right;\n",
       "    }\n",
       "</style>\n",
       "<table border=\"1\" class=\"dataframe\">\n",
       "  <thead>\n",
       "    <tr style=\"text-align: right;\">\n",
       "      <th></th>\n",
       "      <th>temperature</th>\n",
       "    </tr>\n",
       "  </thead>\n",
       "  <tbody>\n",
       "    <tr>\n",
       "      <th>count</th>\n",
       "      <td>200.000000</td>\n",
       "    </tr>\n",
       "    <tr>\n",
       "      <th>mean</th>\n",
       "      <td>71.130000</td>\n",
       "    </tr>\n",
       "    <tr>\n",
       "      <th>std</th>\n",
       "      <td>3.419292</td>\n",
       "    </tr>\n",
       "    <tr>\n",
       "      <th>min</th>\n",
       "      <td>60.000000</td>\n",
       "    </tr>\n",
       "    <tr>\n",
       "      <th>25%</th>\n",
       "      <td>69.000000</td>\n",
       "    </tr>\n",
       "    <tr>\n",
       "      <th>50%</th>\n",
       "      <td>71.000000</td>\n",
       "    </tr>\n",
       "    <tr>\n",
       "      <th>75%</th>\n",
       "      <td>74.000000</td>\n",
       "    </tr>\n",
       "    <tr>\n",
       "      <th>max</th>\n",
       "      <td>78.000000</td>\n",
       "    </tr>\n",
       "  </tbody>\n",
       "</table>\n",
       "</div>"
      ],
      "text/plain": [
       "       temperature\n",
       "count   200.000000\n",
       "mean     71.130000\n",
       "std       3.419292\n",
       "min      60.000000\n",
       "25%      69.000000\n",
       "50%      71.000000\n",
       "75%      74.000000\n",
       "max      78.000000"
      ]
     },
     "execution_count": 13,
     "metadata": {},
     "output_type": "execute_result"
    }
   ],
   "source": [
    "df.describe()"
   ]
  },
  {
   "cell_type": "code",
   "execution_count": null,
   "metadata": {},
   "outputs": [],
   "source": []
  },
  {
   "cell_type": "code",
   "execution_count": null,
   "metadata": {},
   "outputs": [],
   "source": []
  }
 ],
 "metadata": {
  "kernelspec": {
   "display_name": "Python 3",
   "language": "python",
   "name": "python3"
  },
  "language_info": {
   "codemirror_mode": {
    "name": "ipython",
    "version": 3
   },
   "file_extension": ".py",
   "mimetype": "text/x-python",
   "name": "python",
   "nbconvert_exporter": "python",
   "pygments_lexer": "ipython3",
   "version": "3.8.5"
  }
 },
 "nbformat": 4,
 "nbformat_minor": 2
}
